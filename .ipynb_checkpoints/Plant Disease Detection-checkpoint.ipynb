{
 "cells": [
  {
   "cell_type": "code",
   "execution_count": null,
   "metadata": {
    "_cell_guid": "b1076dfc-b9ad-4769-8c92-a6c4dae69d19",
    "_uuid": "8f2839f25d086af736a60e9eeb907d3b93b6e0e5"
   },
   "outputs": [],
   "source": [
    "import numpy as np # linear algebra\n",
    "import pandas as pd # data processing, CSV file I/O (e.g. pd.read_csv)\n",
    "import os\n",
    "import matplotlib.image as img\n",
    "import cv2\n",
    "import dask\n",
    "from PIL import Image\n",
    "import matplotlib.pyplot as plt\n",
    "image=cv2.imread(\"../input/dataset/dataset/train/Grape___Black_rot/b827f370-606b-4430-b3e0-aa120862c3a0___FAM_B.Rot 3300.JPG\")\n",
    "image_to_array=Image.fromarray(image,\"RGB\")  \n",
    "size_image=image_to_array.resize((200,200))\n",
    "plt.imshow(size_image)"
   ]
  },
  {
   "cell_type": "code",
   "execution_count": null,
   "metadata": {},
   "outputs": [],
   "source": [
    "import glob\n",
    "np.array(glob.glob(\"../input/dataset/dataset/train/Tomato*/*.JPG\")).shape"
   ]
  },
  {
   "cell_type": "code",
   "execution_count": null,
   "metadata": {},
   "outputs": [],
   "source": [
    "! cd __notebook_source__.ipynb\n",
    "!ls"
   ]
  },
  {
   "cell_type": "code",
   "execution_count": null,
   "metadata": {},
   "outputs": [],
   "source": [
    "data1=[]\n",
    "labels1=[]\n",
    "%time\n",
    "@delayed\n",
    "for i in range(14401):\n",
    "    image=cv2.imread(np.array(glob.glob(\"../input/dataset/dataset/train/Tomato*/*.JPG\"))[i])\n",
    "    image_to_array=Image.fromarray(image,\"RGB\")\n",
    "    size_image=image_to_array.resize((200,200))\n",
    "    data1.append(np.array(size_image))\n",
    "    labels1.append(np.array(glob.glob(\"../input/dataset/dataset/train/Tomato*/*.JPG\"))[i])"
   ]
  },
  {
   "cell_type": "code",
   "execution_count": null,
   "metadata": {},
   "outputs": [],
   "source": [
    "X_train=np.array(data1)"
   ]
  },
  {
   "cell_type": "code",
   "execution_count": null,
   "metadata": {},
   "outputs": [],
   "source": [
    "import re\n",
    "Labels=[]\n",
    "for i in range(14401):\n",
    "    Labels.append(re.split(r'/',labels1[i])[5])\n",
    "Labels=np.array(Labels).reshape(-1,1)"
   ]
  },
  {
   "cell_type": "code",
   "execution_count": null,
   "metadata": {},
   "outputs": [],
   "source": [
    "from sklearn.preprocessing import OrdinalEncoder \n",
    "encoder=OrdinalEncoder()\n",
    "y_train=encoder.fit_transform(Labels)"
   ]
  },
  {
   "cell_type": "code",
   "execution_count": null,
   "metadata": {},
   "outputs": [],
   "source": [
    "encoder.categories_"
   ]
  },
  {
   "cell_type": "code",
   "execution_count": null,
   "metadata": {},
   "outputs": [],
   "source": [
    "import tensorflow as tf\n",
    "import tensorflow.keras as keras\n",
    "from keras.utils import to_categorical\n",
    "no_classes=10\n",
    "ytr=to_categorical(y_train,no_classes)"
   ]
  },
  {
   "cell_type": "code",
   "execution_count": null,
   "metadata": {},
   "outputs": [],
   "source": [
    "from keras.models import Sequential\n",
    "from keras.layers import  Dense, Dropout, Flatten, Conv2D, MaxPooling2D\n",
    "model=Sequential()\n",
    "model.add(Conv2D(filters=16,kernel_size=3,padding=\"same\",activation=\"relu\",input_shape=(200,200,3)))\n",
    "model.add(MaxPooling2D(pool_size=2))\n",
    "model.add(Conv2D(filters=32,kernel_size=3,padding=\"same\",activation=\"relu\"))\n",
    "model.add(MaxPooling2D(pool_size=2))\n",
    "model.add(Conv2D(filters=64,kernel_size=3,padding=\"same\",activation=\"relu\"))\n",
    "model.add(MaxPooling2D(pool_size=2))\n",
    "model.add(Conv2D(filters=64,kernel_size=3,padding=\"same\",activation=\"relu\"))\n",
    "model.add(MaxPooling2D(pool_size=2))\n",
    "model.add(Flatten())\n",
    "model.add(Dense(500,activation=\"relu\"))\n",
    "model.add(Dense(10,activation=\"softmax\"))\n",
    "model.summary()"
   ]
  },
  {
   "cell_type": "code",
   "execution_count": null,
   "metadata": {},
   "outputs": [],
   "source": [
    "model.compile(loss='categorical_crossentropy',optimizer='adam',metrics=['accuracy'])\n",
    "batch_size=500\n",
    "epochs=40\n",
    "predict=model.fit(X_train,ytr,batch_size=batch_size,epochs=epochs)"
   ]
  },
  {
   "cell_type": "code",
   "execution_count": null,
   "metadata": {},
   "outputs": [],
   "source": [
    "for i in range(2537):\n",
    "    image=cv2.imread(np.array(glob.glob(\"../input/dataset/dataset/train/Apple*/*.JPG\"))[i])\n",
    "    image_to_array=Image.fromarray(image,\"RGB\")\n",
    "    size_image=image_to_array.resize((200,200))\n",
    "    data1.append(np.array(size_image))\n",
    "    labels1.append(np.array(glob.glob(\"../input/dataset/dataset/train/Apple*/*.JPG\"))[i])"
   ]
  },
  {
   "cell_type": "code",
   "execution_count": null,
   "metadata": {},
   "outputs": [],
   "source": [
    "for i in range(1202):\n",
    "    image=cv2.imread(np.array(glob.glob(\"../input/dataset/dataset/train/Blue*/*.JPG\"))[i])\n",
    "    image_to_array=Image.fromarray(image,\"RGB\")\n",
    "    size_image=image_to_array.resize((200,200))\n",
    "    data1.append(np.array(size_image))\n",
    "    labels1.append(np.array(glob.glob(\"../input/dataset/dataset/train/Blue*/*.JPG\"))[i])"
   ]
  },
  {
   "cell_type": "code",
   "execution_count": null,
   "metadata": {},
   "outputs": [],
   "source": [
    "for i in range(1526):\n",
    "    image=cv2.imread(np.array(glob.glob(\"../input/dataset/dataset/train/Cherry*/*.JPG\"))[i])\n",
    "    image_to_array=Image.fromarray(image,\"RGB\")\n",
    "    size_image=image_to_array.resize((200,200))\n",
    "    data1.append(np.array(size_image))\n",
    "    labels1.append(np.array(glob.glob(\"../input/dataset/dataset/train/Cherry*/*.JPG\"))[i])"
   ]
  },
  {
   "cell_type": "code",
   "execution_count": null,
   "metadata": {},
   "outputs": [],
   "source": [
    "for i in range(2021):\n",
    "    image=cv2.imread(np.array(glob.glob(\"../input/dataset/dataset/train/Corn*/*.JPG\"))[i])\n",
    "    image_to_array=Image.fromarray(image,\"RGB\")\n",
    "    size_image=image_to_array.resize((200,200))\n",
    "    data1.append(np.array(size_image))\n",
    "    labels1.append(np.array(glob.glob(\"../input/dataset/dataset/train/Corn*/*.JPG\"))[i])"
   ]
  },
  {
   "cell_type": "code",
   "execution_count": null,
   "metadata": {},
   "outputs": [],
   "source": [
    "for i in range(3251):\n",
    "    image=cv2.imread(np.array(glob.glob(\"../input/dataset/dataset/train/Grape*/*.JPG\"))[i])\n",
    "    image_to_array=Image.fromarray(image,\"RGB\")\n",
    "    size_image=image_to_array.resize((200,200))\n",
    "    data1.append(np.array(size_image))\n",
    "    labels1.append(np.array(glob.glob(\"../input/dataset/dataset/train/Grape*/*.JPG\"))[i])"
   ]
  },
  {
   "cell_type": "code",
   "execution_count": null,
   "metadata": {},
   "outputs": [],
   "source": [
    "\n",
    "for i in range(4406):\n",
    "    image=cv2.imread(np.array(glob.glob(\"../input/dataset/dataset/train/Orange*/*.JPG\"))[i])\n",
    "    image_to_array=Image.fromarray(image,\"RGB\")\n",
    "    size_image=image_to_array.resize((200,200))\n",
    "    data1.append(np.array(size_image))\n",
    "    labels1.append(np.array(glob.glob(\"../input/dataset/dataset/train/Orange*/*.JPG\"))[i])"
   ]
  },
  {
   "cell_type": "code",
   "execution_count": null,
   "metadata": {},
   "outputs": [],
   "source": [
    "\n",
    "for i in range(2126):\n",
    "    image=cv2.imread(np.array(glob.glob(\"../input/dataset/dataset/train/Peach*/*.JPG\"))[i])\n",
    "    image_to_array=Image.fromarray(image,\"RGB\")\n",
    "    size_image=image_to_array.resize((200,200))\n",
    "    data1.append(np.array(size_image))\n",
    "    labels1.append(np.array(glob.glob(\"../input/dataset/dataset/train/Peach*/*.JPG\"))[i])"
   ]
  },
  {
   "cell_type": "code",
   "execution_count": null,
   "metadata": {},
   "outputs": [],
   "source": [
    "\n",
    "for i in range(1979):\n",
    "    image=cv2.imread(np.array(glob.glob(\"../input/dataset/dataset/train/Pepper*/*.JPG\"))[i])\n",
    "    image_to_array=Image.fromarray(image,\"RGB\")\n",
    "    size_image=image_to_array.resize((200,200))\n",
    "    data1.append(np.array(size_image))\n",
    "    labels1.append(np.array(glob.glob(\"../input/dataset/dataset/train/Pepper*/*.JPG\"))[i])"
   ]
  },
  {
   "cell_type": "code",
   "execution_count": null,
   "metadata": {},
   "outputs": [],
   "source": [
    "for i in range(1722):\n",
    "    image=cv2.imread(np.array(glob.glob(\"../input/dataset/dataset/train/Potato*/*.JPG\"))[i])\n",
    "    image_to_array=Image.fromarray(image,\"RGB\")\n",
    "    size_image=image_to_array.resize((200,200))\n",
    "    data1.append(np.array(size_image))\n",
    "    labels1.append(np.array(glob.glob(\"../input/dataset/dataset/train/Potato*/*.JPG\"))[i])"
   ]
  },
  {
   "cell_type": "code",
   "execution_count": null,
   "metadata": {},
   "outputs": [],
   "source": [
    "for i in range(297):\n",
    "    image=cv2.imread(np.array(glob.glob(\"../input/dataset/dataset/train/Raspberry*/*.JPG\"))[i])\n",
    "    image_to_array=Image.fromarray(image,\"RGB\")\n",
    "    size_image=image_to_array.resize((200,200))\n",
    "    data1.append(np.array(size_image))\n",
    "    labels1.append(np.array(glob.glob(\"../input/dataset/dataset/train/Raspberry*/*.JPG\"))[i])"
   ]
  },
  {
   "cell_type": "code",
   "execution_count": null,
   "metadata": {},
   "outputs": [],
   "source": [
    "\n",
    "for i in range(4072):\n",
    "    image=cv2.imread(np.array(glob.glob(\"../input/dataset/dataset/train/Soybean*/*.JPG\"))[i])\n",
    "    image_to_array=Image.fromarray(image,\"RGB\")\n",
    "    size_image=image_to_array.resize((200,200))\n",
    "    data1.append(np.array(size_image))\n",
    "    labels1.append(np.array(glob.glob(\"../input/dataset/dataset/train/Soybean*/*.JPG\"))[i])"
   ]
  },
  {
   "cell_type": "code",
   "execution_count": null,
   "metadata": {},
   "outputs": [],
   "source": [
    "for i in range(1452):\n",
    "    image=cv2.imread(np.array(glob.glob(\"../input/dataset/dataset/train/Squash*/*.JPG\"))[i])\n",
    "    image_to_array=Image.fromarray(image,\"RGB\")\n",
    "    size_image=image_to_array.resize((200,200))\n",
    "    data1.append(np.array(size_image))\n",
    "    labels1.append(np.array(glob.glob(\"../input/dataset/dataset/train/Squash*/*.JPG\"))[i])"
   ]
  },
  {
   "cell_type": "code",
   "execution_count": null,
   "metadata": {},
   "outputs": [],
   "source": [
    "for i in range(1252):\n",
    "    image=cv2.imread(np.array(glob.glob(\"../input/dataset/dataset/train/Strawberry*/*.JPG\"))[i])\n",
    "    image_to_array=Image.fromarray(image,\"RGB\")\n",
    "    size_image=image_to_array.resize((200,200))\n",
    "    data1.append(np.array(size_image))\n",
    "    labels1.append(np.array(glob.glob(\"../input/dataset/dataset/train/Strawberry*/*.JPG\"))[i])"
   ]
  },
  {
   "cell_type": "code",
   "execution_count": null,
   "metadata": {},
   "outputs": [],
   "source": [
    "for i in range(14401):\n",
    "    image=cv2.imread(np.array(glob.glob(\"../input/dataset/dataset/train/Tomato*/*.JPG\"))[i])\n",
    "    image_to_array=Image.fromarray(image,\"RGB\")\n",
    "    size_image=image_to_array.resize((200,200))\n",
    "    data1.append(np.array(size_image))\n",
    "    labels1.append(np.array(glob.glob(\"../input/dataset/dataset/train/Tomato*/*.JPG\"))[i])"
   ]
  },
  {
   "cell_type": "code",
   "execution_count": null,
   "metadata": {
    "_kg_hide-input": false,
    "_kg_hide-output": false
   },
   "outputs": [],
   "source": [
    "data1=[]\n",
    "labels1=[]\n",
    "%time\n",
    "\n",
    "\n",
    "\n",
    "\n",
    "\n",
    "\n",
    "\n",
    "\n",
    "\n"
   ]
  },
  {
   "cell_type": "code",
   "execution_count": null,
   "metadata": {},
   "outputs": [],
   "source": [
    "np.array(glob.glob(\"../input/dataset/dataset/train/Blue*/*.JPG\")).shape"
   ]
  },
  {
   "cell_type": "code",
   "execution_count": null,
   "metadata": {},
   "outputs": [],
   "source": [
    "%time\n",
    "for i in range(1202):\n",
    "    image=cv2.imread(np.array(glob.glob(\"../input/dataset/dataset/train/Blue*/*.JPG\"))[i])\n",
    "    image_to_array=Image.fromarray(image,\"RGB\")\n",
    "    size_image=image_to_array.resize((200,200))\n",
    "    data.append(np.array(size_image))\n",
    "    labels.append(np.array(glob.glob(\"../input/dataset/dataset/train/Blue*/*.JPG\"))[i])"
   ]
  },
  {
   "cell_type": "code",
   "execution_count": null,
   "metadata": {},
   "outputs": [],
   "source": [
    "np.array(glob.glob(\"../input/dataset/dataset/train/Cherry*/*.JPG\")).shape"
   ]
  },
  {
   "cell_type": "code",
   "execution_count": null,
   "metadata": {},
   "outputs": [],
   "source": [
    "%time\n",
    "for i in range(1526):\n",
    "    image=cv2.imread(np.array(glob.glob(\"../input/dataset/dataset/train/Cherry*/*.JPG\"))[i])\n",
    "    image_to_array=Image.fromarray(image,\"RGB\")\n",
    "    size_image=image_to_array.resize((200,200))\n",
    "    data.append(np.array(size_image))\n",
    "    labels.append(np.array(glob.glob(\"../input/dataset/dataset/train/Cherry*/*.JPG\"))[i])"
   ]
  },
  {
   "cell_type": "code",
   "execution_count": null,
   "metadata": {},
   "outputs": [],
   "source": [
    "np.array(glob.glob(\"../input/dataset/dataset/train/Corn*/*.JPG\")).shape"
   ]
  },
  {
   "cell_type": "code",
   "execution_count": null,
   "metadata": {},
   "outputs": [],
   "source": [
    "data=[]\n",
    "labels=[]\n",
    "%time\n",
    "for i in range(2021):\n",
    "    image=cv2.imread(np.array(glob.glob(\"../input/dataset/dataset/Corn/*/*.JPG\"))[i])\n",
    "    image_to_array=Image.fromarray(image,\"RGB\")\n",
    "    size_image=image_to_array.resize((200,200))\n",
    "    data.append(np.array(size_image))\n",
    "    labels.append(np.array(glob.glob(\"../input/dataset/dataset/Corn/*/*.JPG\"))[i])"
   ]
  },
  {
   "cell_type": "code",
   "execution_count": null,
   "metadata": {},
   "outputs": [],
   "source": []
  },
  {
   "cell_type": "code",
   "execution_count": null,
   "metadata": {},
   "outputs": [],
   "source": [
    "data=[]\n",
    "labels=[]\n",
    "%time\n",
    "for i in range(42244):\n",
    "    image=cv2.imread(np.array(glob.glob(\"../input/dataset/dataset/train/*/*.JPG\"))[i])\n",
    "    image_to_array=Image.fromarray(image,\"RGB\")\n",
    "    size_image=image_to_array.resize((200,200))\n",
    "    data.append(np.array(size_image))\n",
    "    labels.append(np.array(glob.glob(\"../input/dataset/dataset/train/*/*.JPG\"))[i])"
   ]
  },
  {
   "cell_type": "code",
   "execution_count": null,
   "metadata": {},
   "outputs": [],
   "source": [
    "X_train=np.array(data)\n",
    "X_train.shape\n",
    "Labels1=np.array(labels)\n",
    "Labels1.shape"
   ]
  },
  {
   "cell_type": "code",
   "execution_count": null,
   "metadata": {},
   "outputs": [],
   "source": [
    "Labels=[]\n",
    "for i in range(42244):\n",
    "    Labels.append(re.split(r'/',Labels1[i])[5])\n",
    "Labels=np.array(Labels).reshape(-1,1)"
   ]
  },
  {
   "cell_type": "code",
   "execution_count": null,
   "metadata": {},
   "outputs": [],
   "source": [
    "from sklearn.preprocessing import OrdinalEncoder \n",
    "encoder=OrdinalEncoder()\n",
    "y_train=encoder.fit_transform(Labels)"
   ]
  },
  {
   "cell_type": "code",
   "execution_count": null,
   "metadata": {},
   "outputs": [],
   "source": [
    "Labels.shape"
   ]
  },
  {
   "cell_type": "code",
   "execution_count": null,
   "metadata": {},
   "outputs": [],
   "source": [
    "import requests\n",
    "data=requests.get('kaggle datasets download -d saroz014/plant-disease')"
   ]
  }
 ],
 "metadata": {
  "kernelspec": {
   "display_name": "Python 3",
   "language": "python",
   "name": "python3"
  },
  "language_info": {
   "codemirror_mode": {
    "name": "ipython",
    "version": 3
   },
   "file_extension": ".py",
   "mimetype": "text/x-python",
   "name": "python",
   "nbconvert_exporter": "python",
   "pygments_lexer": "ipython3",
   "version": "3.6.8"
  }
 },
 "nbformat": 4,
 "nbformat_minor": 1
}
