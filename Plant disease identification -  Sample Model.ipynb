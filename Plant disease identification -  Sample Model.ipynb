{
  "nbformat": 4,
  "nbformat_minor": 0,
  "metadata": {
    "kernelspec": {
      "language": "python",
      "display_name": "Python 3",
      "name": "python3"
    },
    "language_info": {
      "pygments_lexer": "ipython3",
      "nbconvert_exporter": "python",
      "version": "3.6.4",
      "file_extension": ".py",
      "codemirror_mode": {
        "name": "ipython",
        "version": 3
      },
      "name": "python",
      "mimetype": "text/x-python"
    },
    "colab": {
      "name": "Plant disease identification -  Sample Model.ipynb",
      "version": "0.3.2",
      "provenance": [],
      "include_colab_link": true
    }
  },
  "cells": [
    {
      "cell_type": "markdown",
      "metadata": {
        "id": "view-in-github",
        "colab_type": "text"
      },
      "source": [
        "<a href=\"https://colab.research.google.com/github/Rahulmisal27/Plant-disease-detection/blob/master/Plant%20disease%20identification%20-%20%20Sample%20Model.ipynb\" target=\"_parent\"><img src=\"https://colab.research.google.com/assets/colab-badge.svg\" alt=\"Open In Colab\"/></a>"
      ]
    },
    {
      "cell_type": "code",
      "metadata": {
        "_uuid": "8f2839f25d086af736a60e9eeb907d3b93b6e0e5",
        "_cell_guid": "b1076dfc-b9ad-4769-8c92-a6c4dae69d19",
        "trusted": true,
        "id": "svryj4UOmeK5",
        "colab_type": "code",
        "colab": {}
      },
      "source": [
        "import numpy as np # linear algebra\n",
        "import pandas as pd # data processing, CSV file I/O (e.g. pd.read_csv)\n",
        "import os\n",
        "import matplotlib.pyplot as plt\n",
        "import seaborn as sns\n",
        "import keras\n",
        "import cv2\n",
        "import glob"
      ],
      "execution_count": 0,
      "outputs": []
    },
    {
      "cell_type": "code",
      "metadata": {
        "trusted": true,
        "id": "EizKKuOQmeLU",
        "colab_type": "code",
        "colab": {}
      },
      "source": [
        "glob.glob('../input/plantdisease/plantvillage/PlantVillage/Pepper__bell___Bacterial_spot/00f2e69a-1e56-412d-8a79-fdce794a17e4___JR_B.Spot 3132.JPG')"
      ],
      "execution_count": 0,
      "outputs": []
    },
    {
      "cell_type": "code",
      "metadata": {
        "_uuid": "d629ff2d2480ee46fbb7e2d37f6b5fab8052498a",
        "_cell_guid": "79c7e3d0-c299-4dcb-8224-4455121ee9b0",
        "trusted": true,
        "id": "VbZH0_KTmeLd",
        "colab_type": "code",
        "colab": {}
      },
      "source": [
        "img=plt.imread('../input/plantdisease/plantvillage/PlantVillage/Pepper__bell___Bacterial_spot/00f2e69a-1e56-412d-8a79-fdce794a17e4___JR_B.Spot 3132.JPG')\n",
        "plt.imshow(img)"
      ],
      "execution_count": 0,
      "outputs": []
    },
    {
      "cell_type": "code",
      "metadata": {
        "trusted": true,
        "id": "YfukO5i8meLl",
        "colab_type": "code",
        "colab": {}
      },
      "source": [
        "import re\n",
        "for i in glob.glob('../input/plantdisease/plantvillage/PlantVillage/*'):\n",
        "    print(re.split('/',i)[5])"
      ],
      "execution_count": 0,
      "outputs": []
    },
    {
      "cell_type": "code",
      "metadata": {
        "trusted": true,
        "id": "IxUOminOmeL4",
        "colab_type": "code",
        "colab": {}
      },
      "source": [
        "np.array(glob.glob('../input/plantdisease/plantvillage/PlantVillage/*/*JPG')).shape"
      ],
      "execution_count": 0,
      "outputs": []
    },
    {
      "cell_type": "code",
      "metadata": {
        "trusted": true,
        "id": "r4R4v20GmeL_",
        "colab_type": "code",
        "colab": {}
      },
      "source": [
        "from PIL import Image\n",
        "image_data=[]\n",
        "label_data=[]\n",
        "for i in glob.glob('../input/plantdisease/plantvillage/PlantVillage/*/*JPG'):\n",
        "    img=cv2.imread(i)\n",
        "    image_to_array=Image.fromarray(img,\"RGB\")\n",
        "    size_image=image_to_array.resize((250,250))\n",
        "    image_data.append(np.array(size_image))\n",
        "    label_data.append(re.split('/',i)[5])"
      ],
      "execution_count": 0,
      "outputs": []
    },
    {
      "cell_type": "code",
      "metadata": {
        "trusted": true,
        "id": "mZ7LzApVmeMQ",
        "colab_type": "code",
        "colab": {}
      },
      "source": [
        "image_data=np.array(image_data)\n",
        "label_data=np.array(label_data)"
      ],
      "execution_count": 0,
      "outputs": []
    },
    {
      "cell_type": "code",
      "metadata": {
        "trusted": true,
        "id": "Cow63wIOmeMW",
        "colab_type": "code",
        "colab": {}
      },
      "source": [
        "image_data.shape"
      ],
      "execution_count": 0,
      "outputs": []
    },
    {
      "cell_type": "code",
      "metadata": {
        "trusted": true,
        "id": "DLE-W_someMb",
        "colab_type": "code",
        "colab": {}
      },
      "source": [
        "label_data.shape"
      ],
      "execution_count": 0,
      "outputs": []
    },
    {
      "cell_type": "code",
      "metadata": {
        "trusted": true,
        "id": "J5O3TSSFmeMk",
        "colab_type": "code",
        "colab": {}
      },
      "source": [
        "label_data[:5]"
      ],
      "execution_count": 0,
      "outputs": []
    },
    {
      "cell_type": "code",
      "metadata": {
        "trusted": true,
        "id": "KkvMMIkOmeNJ",
        "colab_type": "code",
        "colab": {}
      },
      "source": [
        "plt.imshow(image_data[1])"
      ],
      "execution_count": 0,
      "outputs": []
    },
    {
      "cell_type": "code",
      "metadata": {
        "trusted": true,
        "id": "_mJ0xv-MmeNQ",
        "colab_type": "code",
        "colab": {}
      },
      "source": [
        "label_data=pd.DataFrame(label_data)\n",
        "label_data[0].value_counts()"
      ],
      "execution_count": 0,
      "outputs": []
    },
    {
      "cell_type": "code",
      "metadata": {
        "trusted": true,
        "id": "vVsd2ueLmeNf",
        "colab_type": "code",
        "colab": {}
      },
      "source": [
        "index=label_data[label_data[0]=='Potato___healthy'].index\n",
        "image_data[index].shape"
      ],
      "execution_count": 0,
      "outputs": []
    },
    {
      "cell_type": "code",
      "metadata": {
        "trusted": true,
        "id": "Ce7BQXrWmeNt",
        "colab_type": "code",
        "colab": {}
      },
      "source": [
        "Potato___healthy=image_data[index]"
      ],
      "execution_count": 0,
      "outputs": []
    },
    {
      "cell_type": "code",
      "metadata": {
        "trusted": true,
        "id": "FTWMkEwmmeN0",
        "colab_type": "code",
        "colab": {}
      },
      "source": [
        "from keras.preprocessing.image import ImageDataGenerator\n",
        "ImageDataGenerator(Potato___healthy)"
      ],
      "execution_count": 0,
      "outputs": []
    },
    {
      "cell_type": "code",
      "metadata": {
        "trusted": true,
        "id": "IcmzOvdnmeN6",
        "colab_type": "code",
        "colab": {}
      },
      "source": [
        ""
      ],
      "execution_count": 0,
      "outputs": []
    },
    {
      "cell_type": "code",
      "metadata": {
        "trusted": true,
        "id": "Uv2-2vFfmeN_",
        "colab_type": "code",
        "colab": {}
      },
      "source": [
        "index=label_data[label_data[0]=='Tomato__Tomato_mosaic_virus'].index\n",
        "image_data[index].shape"
      ],
      "execution_count": 0,
      "outputs": []
    },
    {
      "cell_type": "code",
      "metadata": {
        "trusted": true,
        "id": "jsWYexermeOG",
        "colab_type": "code",
        "colab": {}
      },
      "source": [
        "Tomato__Tomato_mosaic_virus=image_data[index]"
      ],
      "execution_count": 0,
      "outputs": []
    },
    {
      "cell_type": "code",
      "metadata": {
        "trusted": true,
        "id": "I1U_UcO1meOL",
        "colab_type": "code",
        "colab": {}
      },
      "source": [
        "label_data[0][0][:6]"
      ],
      "execution_count": 0,
      "outputs": []
    },
    {
      "cell_type": "code",
      "metadata": {
        "trusted": true,
        "id": "mi9OLiwKmeOS",
        "colab_type": "code",
        "colab": {}
      },
      "source": [
        "Labels=[]\n",
        "for i in label_data[0]:\n",
        "    Labels.append(i[:6])"
      ],
      "execution_count": 0,
      "outputs": []
    },
    {
      "cell_type": "code",
      "metadata": {
        "trusted": true,
        "id": "UpptGizcmeOa",
        "colab_type": "code",
        "colab": {}
      },
      "source": [
        "Labels=pd.get_dummies(Labels)"
      ],
      "execution_count": 0,
      "outputs": []
    },
    {
      "cell_type": "code",
      "metadata": {
        "trusted": true,
        "id": "xup8ROHdmeOg",
        "colab_type": "code",
        "colab": {}
      },
      "source": [
        "from sklearn.model_selection import train_test_split\n",
        "xtr,xte,ytr,yte=train_test_split(image_data,Labels)"
      ],
      "execution_count": 0,
      "outputs": []
    },
    {
      "cell_type": "code",
      "metadata": {
        "trusted": true,
        "id": "c2PzMe4WmeOp",
        "colab_type": "code",
        "colab": {}
      },
      "source": [
        "xtr.shape"
      ],
      "execution_count": 0,
      "outputs": []
    },
    {
      "cell_type": "code",
      "metadata": {
        "trusted": true,
        "id": "65DQKWbRmeOu",
        "colab_type": "code",
        "colab": {}
      },
      "source": [
        "from keras.layers import Conv2D, Dense, MaxPool2D, Flatten, Dropout,Conv3D\n",
        "from keras.models import Sequential\n",
        "model=Sequential()\n",
        "model.add(Dense(3,activation='relu',input_shape=(250,250,3)))\n",
        "model.add(Conv2D(10,kernel_size=(3,3),activation='relu'))\n",
        "model.add(MaxPool2D(1))\n",
        "model.add(Conv2D(10,kernel_size=(3,3),activation='relu'))\n",
        "model.add(Dropout(0.5))\n",
        "model.add(Conv2D(10,kernel_size=(3,3),activation='relu'))\n",
        "model.add(MaxPool2D(1))\n",
        "model.add(Conv2D(10,kernel_size=(3,3),activation='relu'))\n",
        "#model.add(Flatten())\n",
        "#model.add(Dense(3,activation='softmax'))\n",
        "model.summary()"
      ],
      "execution_count": 0,
      "outputs": []
    },
    {
      "cell_type": "code",
      "metadata": {
        "trusted": true,
        "id": "2VSDrnhcmeOz",
        "colab_type": "code",
        "colab": {}
      },
      "source": [
        "model.compile(optimizer='adam',loss='categorical_crossentropy',metrics=['accuracy'])"
      ],
      "execution_count": 0,
      "outputs": []
    },
    {
      "cell_type": "code",
      "metadata": {
        "trusted": true,
        "id": "JYZmdVUBmeO7",
        "colab_type": "code",
        "colab": {}
      },
      "source": [
        "model.fit(xtr,ytr,epochs=10)"
      ],
      "execution_count": 0,
      "outputs": []
    },
    {
      "cell_type": "code",
      "metadata": {
        "trusted": true,
        "id": "X26G9NlWmePA",
        "colab_type": "code",
        "colab": {}
      },
      "source": [
        ""
      ],
      "execution_count": 0,
      "outputs": []
    },
    {
      "cell_type": "code",
      "metadata": {
        "trusted": true,
        "id": "bsMrF0Y1mePE",
        "colab_type": "code",
        "colab": {}
      },
      "source": [
        "model.predict(xtr[1].)"
      ],
      "execution_count": 0,
      "outputs": []
    },
    {
      "cell_type": "code",
      "metadata": {
        "trusted": true,
        "id": "OTJXcy4xmePJ",
        "colab_type": "code",
        "colab": {}
      },
      "source": [
        ""
      ],
      "execution_count": 0,
      "outputs": []
    }
  ]
}